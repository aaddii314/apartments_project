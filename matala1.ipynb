{
 "cells": [
  {
   "cell_type": "markdown",
   "id": "6d828741-67bd-4684-b7b2-66dd4ac8c8f2",
   "metadata": {},
   "source": [
    "אוראל חגי 314831819\n",
    "דוד תורגמן 314735564 "
   ]
  },
  {
   "cell_type": "markdown",
   "id": "947e2a24-a495-46e9-8e8d-f256d96a0415",
   "metadata": {},
   "source": [
    "https://github.com/aaddii314/apartments_project"
   ]
  },
  {
   "cell_type": "code",
   "execution_count": 4,
   "id": "0cc841bb-e053-4c08-b300-47c409c42333",
   "metadata": {},
   "outputs": [
    {
     "name": "stdout",
     "output_type": "stream",
     "text": [
      "Requirement already satisfied: beautifulsoup4 in c:\\users\\david\\anaconda3\\lib\\site-packages (4.12.3)\n",
      "Requirement already satisfied: soupsieve>1.2 in c:\\users\\david\\anaconda3\\lib\\site-packages (from beautifulsoup4) (2.5)\n",
      "Note: you may need to restart the kernel to use updated packages.\n"
     ]
    }
   ],
   "source": [
    "pip install beautifulsoup4"
   ]
  },
  {
   "cell_type": "code",
   "execution_count": 90,
   "id": "cc97806f-40e6-42c1-935e-f433ef6d4830",
   "metadata": {},
   "outputs": [],
   "source": [
    "import requests\n",
    "from bs4 import BeautifulSoup"
   ]
  },
  {
   "cell_type": "code",
   "execution_count": 368,
   "id": "5251d4fb-9289-411e-8d08-6faaa7d5f3e3",
   "metadata": {},
   "outputs": [],
   "source": [
    "import pandas as pd\n",
    "from urllib.parse import quote"
   ]
  },
  {
   "cell_type": "code",
   "execution_count": 705,
   "id": "618f6b5a-f7af-4c36-87d6-894aaafc087f",
   "metadata": {
    "editable": true,
    "slideshow": {
     "slide_type": ""
    },
    "tags": []
   },
   "outputs": [
    {
     "name": "stdout",
     "output_type": "stream",
     "text": [
      "5\n",
      "14\n",
      "38\n",
      "jbjbjbj\n",
      "jbjbjbj\n",
      "jbjbjbj\n",
      "jbjbjbj\n",
      "jbjbjbj\n",
      "jbjbjbj\n"
     ]
    }
   ],
   "source": [
    "url1 = \"https://www.ad.co.il/nadlanrent?sp275=17413&sp277=17544\" #נאות אפקה א\n",
    "url2 = \"https://www.ad.co.il/nadlanrent?sp275=17413&sp276=17414&sp277=18236\" #פארק צמרת\n",
    "url3 = \"https://www.ad.co.il/nadlanrent?sp275=17413&sp277=18511\" #קריה\n",
    "all_data=[]\n",
    "all_data.append(get_apartment_details(url1))\n",
    "all_data.append(get_apartment_details(url2))\n",
    "all_data.append(get_apartment_details(url3))\n",
    "big_df = pd.concat(all_data, ignore_index=True)\n"
   ]
  },
  {
   "cell_type": "code",
   "execution_count": 707,
   "id": "19b10344-c677-4fa7-b7fd-c020d231ac36",
   "metadata": {
    "editable": true,
    "slideshow": {
     "slide_type": ""
    },
    "tags": []
   },
   "outputs": [
    {
     "name": "stdout",
     "output_type": "stream",
     "text": [
      "26\n",
      "Index(['property_type', 'neighborhood', 'address', 'room_num', 'floor',\n",
      "       'total_floors', 'area', 'days_to_enter', 'num_of_payments',\n",
      "       'monthly_arnona', 'building_tax', 'description', 'is_furnished',\n",
      "       'has_bars', 'ac', 'has_parking', 'has_safe_room', 'has_balcony',\n",
      "       'handicap', 'elevator', 'has_storage', 'is_renovated', 'price',\n",
      "       'num_of_images', 'distance_from_center', 'garden_area'],\n",
      "      dtype='object')\n"
     ]
    }
   ],
   "source": [
    "new_df = big_df.rename(columns={\n",
    "    'חניה': 'has_parking',\n",
    "    'מחסן': 'has_storage',\n",
    "    'מעלית': 'elevator',\n",
    "    'מיזוג': 'ac',\n",
    "    'נגישות': 'handicap',\n",
    "    'סורגים': 'has_bars',\n",
    "    'ממ\"ד': 'has_safe_room',\n",
    "    'מרפסת': 'has_balcony',\n",
    "    'מרוהטת': 'is_furnished',\n",
    "    'משופצת': 'is_renovated',\n",
    "    'מחיר': 'price',\n",
    "    'מזגן': 'ac'\n",
    "})\n",
    "csv_data=new_df.to_csv('apartments.csv', index=False, encoding='utf-8-sig')\n",
    "num_columns = len(big_df.columns)\n",
    "print(num_columns)\n",
    "print (new_df.columns)"
   ]
  },
  {
   "cell_type": "code",
   "execution_count": 648,
   "id": "30752b1b-b344-465d-8b3d-aed9cc5884a1",
   "metadata": {},
   "outputs": [],
   "source": [
    "#def result1(adress_url)\n",
    "    #result=get_apartment_details(adress_url)"
   ]
  },
  {
   "cell_type": "code",
   "execution_count": 713,
   "id": "e807aba6-b3d8-4a23-a2dc-57b5e2ce1f78",
   "metadata": {
    "editable": true,
    "slideshow": {
     "slide_type": ""
    },
    "tags": []
   },
   "outputs": [],
   "source": [
    "def distance (accept_address):\n",
    "    url = \"https://www.ad.co.il/nadlanrent?sp275=17413&sp277=17544\"\n",
    "    key=\"************************\"\n",
    "    address=\"דיזינגוף סנטר,תל אביב\"\n",
    "    origin_encoded = quote(address)\n",
    "    destination_encoded = quote(accept_address)\n",
    "    ser=f\"https://maps.googleapis.com/maps/api/distancematrix/json?origins={origin_encoded}&destinations={destination_encoded}&key={key}&language=he\"\n",
    "    #response1 = requests.get(ser)\n",
    "    #data = response1.json()\n",
    "    \n",
    "    \n",
    "    response = requests.get(ser)\n",
    "    if not response.status_code == 200:\n",
    "        print(\"HTTP error\",response.status_code)\n",
    "        return \"nun\"\n",
    "    else:\n",
    "\n",
    "        response_data = response.json()\n",
    "        distance_meters = float(response_data['rows'][0]['elements'][0]['distance']['value'])\n",
    "        return distance_meters \n",
    "                    \n",
    "\n"
   ]
  },
  {
   "cell_type": "code",
   "execution_count": 703,
   "id": "f6975867-3b3f-44da-82e8-fcfc97a380cd",
   "metadata": {
    "editable": true,
    "slideshow": {
     "slide_type": ""
    },
    "tags": []
   },
   "outputs": [],
   "source": [
    "url = \"https://www.ad.co.il/nadlanrent?sp275=17413&sp277=17544\"\n",
    "def get_apartment_details(url_apartment):\n",
    "    response = requests.get(url_apartment)\n",
    "    if response.status_code == 200:\n",
    "        soup = BeautifulSoup(response.content, 'html.parser')\n",
    "        ads = soup.find_all('div', class_='card-block', attrs={'data-id': True})\n",
    "        print(len(ads))\n",
    "        \n",
    "        apartment=[]\n",
    "        for i in ads:\n",
    "            links=\"https://www.ad.co.il\"+( i.find('a').get('href'))\n",
    "            response1 = requests.get(links)\n",
    "            #print(links)\n",
    "            soup1 = BeautifulSoup(response1.content, 'html.parser')\n",
    "            price = soup1.find(\"table\", class_=\"table table-sm mb-4\")\n",
    "            rows = price.find_all('tr')\n",
    "            dicty={}\n",
    "\n",
    "            for row in rows:\n",
    "                dave=row.find_all('td')\n",
    "                #for dav in dave: \n",
    "                    #if \"דירה\" in dav.text:\n",
    "                if dave[0].text.strip()==\"פרטי הנכס\":\n",
    "                    dicty[\"property_type\"]=str(dave[1].text.strip())\n",
    "                elif dave[0].text.strip()==\"שכונה\":\n",
    "                    dicty[\"neighborhood\"]=str(dave[1].text.strip())\n",
    "                elif dave[0].text.strip()==\"כתובת\":\n",
    "                    dicty[\"address\"]=str(dave[1].text.strip())\n",
    "                    place=dave[1].text.strip()+ \" \" + \"תל אביב\"\n",
    "                elif dave[0].text.strip()==\"חדרים\":\n",
    "                    dicty[\"room_num\"]=float(dave[1].text.strip())\n",
    "                elif dave[0].text.strip()==\"קומה\":\n",
    "                    floar_info=dave[1].text.strip()\n",
    "                    parts = floar_info.split(\"מתוך\")\n",
    "                    try:\n",
    "                        dicty[\"floor\"] = int(parts[0].strip())\n",
    "                    except:\n",
    "                        dicty[\"floor\"]=0\n",
    "                    try:\n",
    "                        dicty[\"total_floors\"] = int(parts[1].strip())\n",
    "                    except:\n",
    "                        dicty[\"total_floors\"]=0\n",
    "                elif dave[0].text.strip()==\"שטח בנוי\":\n",
    "                    dicty[\"area\"]=int(dave[1].text.strip())\n",
    "                elif dave[0].text.strip()==\"שטח גינה\":\n",
    "                    dicty[\"garden_area\"]=int(dave[1].text.strip())   \n",
    "                elif dave[0].text.strip()==\"תאריך כניסה\":\n",
    "                    value = dave[1].text.strip()\n",
    "                    try:\n",
    "                        dicty[\"days_to_enter\"] = int(value)\n",
    "                    except:\n",
    "                        dicty[\"days_to_enter\"] = 0 \n",
    "                elif dave[0].text.strip()==\"תשלומים בשנה\":\n",
    "                    dicty[\"num_of_payments\"]=int(dave[1].text.strip())\n",
    "                elif dave[0].text.strip()==\"ארנונה בחודש\":\n",
    "                    dicty[\"monthly_arnona\"]=int(dave[1].text.strip())\n",
    "                elif dave[0].text.strip()==\"ועד בית בחודש\":\n",
    "                    dicty[\"building_tax\"]=int(dave[1].text.strip())\n",
    "                #elif dave[0].text.strip()==\"חדרים\":\n",
    "                    #dicty[\"total_floors\"]=dave[1].text.strip()[2]\n",
    "            desc=soup1.find(\"p\", class_=\"text-word-break\")\n",
    "            dicty[\"description\"]=str(desc.text.replace(\"\\n\", \" \").strip())\n",
    "            more_desc=soup1.find_all(\"div\",class_=\"card-icon col-6 d-inline disabled\")\n",
    "            for i in more_desc:\n",
    "                #if i.find(\"i\",class_=\"fas fa-fw fa-check\"):\n",
    "                span=i.find(\"span\")\n",
    "                dicty[span.text.strip()]=0\n",
    "            more_desc1=soup1.find_all(\"div\",class_=\"card-icon col-6 d-inline\")\n",
    "            for i in more_desc1:\n",
    "                span=i.find(\"span\")\n",
    "                dicty[span.text.strip()]=1\n",
    "            del dicty['מרפסת שמש']\n",
    "            del dicty ['על עמודים']\n",
    "            price= soup1.find(\"div\", class_=\"d-flex justify-content-between\").find_all(\"h2\", class_=\"card-title\")[1].text.strip()\n",
    "            clean_price = price.replace(\"₪\", \"\").replace(\",\", \"\").strip()\n",
    "            dicty[\"price\"] = float(clean_price)\n",
    "            gallery = soup1.find_all(\"a\", itemprop=\"contentUrl\")\n",
    "            num_of_images = int(len(gallery))\n",
    "            dicty['num_of_images'] = num_of_images\n",
    "            try:\n",
    "                distance_dizingof=distance(place)\n",
    "                dicty[\"distance_from_center\"]=distance_dizingof\n",
    "            except:\n",
    "                dicty[\"distance_from_center\"]=\"nune\"\n",
    "            apartment.append(dicty)\n",
    "        df = pd.DataFrame(apartment)\n",
    "        return (df)\n",
    "                \n",
    "                        \n",
    "                    \n",
    "                    \n",
    "    \n",
    "    \n",
    "                \n",
    "                \n",
    "                        \n",
    "                        \n",
    "                    \n",
    "    \n",
    "    \n",
    "    \n",
    "    \n",
    "    \n",
    "             \n"
   ]
  },
  {
   "cell_type": "code",
   "execution_count": null,
   "id": "6bdf1631-94ff-4464-8155-cb898a42c622",
   "metadata": {},
   "outputs": [],
   "source": []
  },
  {
   "cell_type": "code",
   "execution_count": null,
   "id": "3d40b926-a8b0-423d-a4d0-64f36eafcbd5",
   "metadata": {},
   "outputs": [],
   "source": [
    " "
   ]
  },
  {
   "cell_type": "code",
   "execution_count": 33,
   "id": "05b8bdc1-657d-4857-b218-b1f9d54794e5",
   "metadata": {
    "editable": true,
    "slideshow": {
     "slide_type": ""
    },
    "tags": []
   },
   "outputs": [],
   "source": []
  },
  {
   "cell_type": "code",
   "execution_count": 378,
   "id": "6e441833-23f9-4214-9be3-ddb1fbf88f8d",
   "metadata": {},
   "outputs": [],
   "source": []
  },
  {
   "cell_type": "code",
   "execution_count": 48,
   "id": "96256be1-536e-464e-a931-7cb3dcf0f00b",
   "metadata": {},
   "outputs": [],
   "source": [
    "\n",
    "\n"
   ]
  },
  {
   "cell_type": "code",
   "execution_count": null,
   "id": "8af51efb-2cd0-4b44-8053-3e3498ca50a9",
   "metadata": {},
   "outputs": [],
   "source": []
  },
  {
   "cell_type": "code",
   "execution_count": null,
   "id": "138217fa-1ddc-4983-a4aa-0f925747c652",
   "metadata": {},
   "outputs": [],
   "source": []
  },
  {
   "cell_type": "code",
   "execution_count": null,
   "id": "61110664-6202-4a3a-b80d-c88c95094412",
   "metadata": {},
   "outputs": [],
   "source": []
  },
  {
   "cell_type": "code",
   "execution_count": null,
   "id": "188a3098-d44e-4ad5-973e-36b70a0ebd55",
   "metadata": {},
   "outputs": [],
   "source": []
  },
  {
   "cell_type": "code",
   "execution_count": 58,
   "id": "67b6d457-d0bb-40e1-bc45-fc4717d0334b",
   "metadata": {},
   "outputs": [],
   "source": []
  },
  {
   "cell_type": "code",
   "execution_count": null,
   "id": "8ff71aa6-4724-4ce7-9f21-a74475cc0da0",
   "metadata": {},
   "outputs": [],
   "source": []
  },
  {
   "cell_type": "code",
   "execution_count": null,
   "id": "2b9428d1-6ab0-4a29-8536-854b32801dcc",
   "metadata": {},
   "outputs": [],
   "source": []
  },
  {
   "cell_type": "code",
   "execution_count": null,
   "id": "6021cf91-ce73-471d-9c56-5993103f4106",
   "metadata": {},
   "outputs": [],
   "source": []
  },
  {
   "cell_type": "code",
   "execution_count": 72,
   "id": "e5254730-ff61-45a5-b175-bd3d07070a05",
   "metadata": {},
   "outputs": [],
   "source": []
  },
  {
   "cell_type": "code",
   "execution_count": null,
   "id": "9177996a-f555-4d4e-8702-b71eca1cdb37",
   "metadata": {},
   "outputs": [],
   "source": []
  },
  {
   "cell_type": "code",
   "execution_count": null,
   "id": "2e5a9cd0-a77f-4fc7-8995-f0b90b7823cf",
   "metadata": {},
   "outputs": [],
   "source": []
  },
  {
   "cell_type": "code",
   "execution_count": null,
   "id": "14d36956-5961-4bae-9804-62364f927896",
   "metadata": {},
   "outputs": [],
   "source": []
  },
  {
   "cell_type": "code",
   "execution_count": null,
   "id": "c6b04a0f-9ce5-4daa-b08b-96738f12c536",
   "metadata": {},
   "outputs": [],
   "source": []
  }
 ],
 "metadata": {
  "kernelspec": {
   "display_name": "Python 3 (ipykernel)",
   "language": "python",
   "name": "python3"
  },
  "language_info": {
   "codemirror_mode": {
    "name": "ipython",
    "version": 3
   },
   "file_extension": ".py",
   "mimetype": "text/x-python",
   "name": "python",
   "nbconvert_exporter": "python",
   "pygments_lexer": "ipython3",
   "version": "3.12.7"
  }
 },
 "nbformat": 4,
 "nbformat_minor": 5
}
